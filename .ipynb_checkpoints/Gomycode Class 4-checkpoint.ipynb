{
 "cells": [
  {
   "cell_type": "markdown",
   "id": "87849bbd",
   "metadata": {},
   "source": [
    "### Import/input"
   ]
  },
  {
   "cell_type": "code",
   "execution_count": 23,
   "id": "7ec3b727",
   "metadata": {},
   "outputs": [
    {
     "name": "stdout",
     "output_type": "stream",
     "text": [
      "Enter the value of initial velocity 5\n",
      "Enter the Value of acceleration 3\n",
      "Enter the Value of speed 2\n"
     ]
    }
   ],
   "source": [
    "# The formular is V**2 = U**2 + 2as\n",
    "# Assign variable for u,a, and s\n",
    "\n",
    "#  v = Velocity\n",
    "u = 5 # initial velocity\n",
    "a = 3 # acceleration\n",
    "s = 2 # speed\n",
    "\n",
    "\n",
    "u = int(input('Enter the value of initial velocity'))\n",
    "a = int(input('Enter the Value of acceleration'))\n",
    "s = int(input('Enter the Value of speed'))"
   ]
  },
  {
   "cell_type": "code",
   "execution_count": 24,
   "id": "fd2d381c",
   "metadata": {},
   "outputs": [
    {
     "name": "stdout",
     "output_type": "stream",
     "text": [
      "6.082762530298219\n"
     ]
    }
   ],
   "source": [
    "v = (u**2 + 2*a*s)**0.5\n",
    "print(v)"
   ]
  },
  {
   "cell_type": "code",
   "execution_count": 25,
   "id": "80a76b3c",
   "metadata": {},
   "outputs": [
    {
     "name": "stdout",
     "output_type": "stream",
     "text": [
      "Final Velocity = 6.082762530298219\n"
     ]
    }
   ],
   "source": [
    "#Taking V**2 has v\n",
    "print('Final Velocity =', v)"
   ]
  },
  {
   "cell_type": "code",
   "execution_count": 21,
   "id": "0e282f89",
   "metadata": {},
   "outputs": [],
   "source": [
    "# Lets use python library method\n",
    "import math"
   ]
  },
  {
   "cell_type": "code",
   "execution_count": 26,
   "id": "0d8f9790",
   "metadata": {},
   "outputs": [
    {
     "name": "stdout",
     "output_type": "stream",
     "text": [
      "Final Velocity = 6.082762530298219\n"
     ]
    }
   ],
   "source": [
    "velocity = math.sqrt(u**2 + 2*a*s)\n",
    "print('Final Velocity =', velocity)\n"
   ]
  },
  {
   "cell_type": "code",
   "execution_count": null,
   "id": "081383ea",
   "metadata": {},
   "outputs": [],
   "source": []
  }
 ],
 "metadata": {
  "kernelspec": {
   "display_name": "Python 3 (ipykernel)",
   "language": "python",
   "name": "python3"
  },
  "language_info": {
   "codemirror_mode": {
    "name": "ipython",
    "version": 3
   },
   "file_extension": ".py",
   "mimetype": "text/x-python",
   "name": "python",
   "nbconvert_exporter": "python",
   "pygments_lexer": "ipython3",
   "version": "3.10.9"
  }
 },
 "nbformat": 4,
 "nbformat_minor": 5
}
