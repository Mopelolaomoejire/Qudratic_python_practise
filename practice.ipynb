{
 "cells": [
  {
   "cell_type": "code",
   "execution_count": 1,
   "id": "9cb04085",
   "metadata": {},
   "outputs": [
    {
     "data": {
      "text/plain": [
       "'hello world'"
      ]
     },
     "execution_count": 1,
     "metadata": {},
     "output_type": "execute_result"
    }
   ],
   "source": [
    "\"hello world\""
   ]
  },
  {
   "cell_type": "markdown",
   "id": "792036de",
   "metadata": {},
   "source": [
    "### F-string"
   ]
  },
  {
   "cell_type": "code",
   "execution_count": 4,
   "id": "e810136a",
   "metadata": {},
   "outputs": [
    {
     "name": "stdout",
     "output_type": "stream",
     "text": [
      "Rodiyah Olayinka\n"
     ]
    }
   ],
   "source": [
    "first_name = 'Rodiyah'\n",
    "last_name = 'Olayinka'\n",
    "full_name = f\"{first_name} {last_name}\"\n",
    "print(full_name)"
   ]
  },
  {
   "cell_type": "markdown",
   "id": "5e2ecee0",
   "metadata": {},
   "source": [
    "### List"
   ]
  },
  {
   "cell_type": "code",
   "execution_count": 5,
   "id": "e706a373",
   "metadata": {},
   "outputs": [],
   "source": [
    "Name = ['rodiyah','aridunu','adeola']"
   ]
  },
  {
   "cell_type": "code",
   "execution_count": 6,
   "id": "e416a4a6",
   "metadata": {},
   "outputs": [
    {
     "data": {
      "text/plain": [
       "['rodiyah', 'aridunu', 'adeola']"
      ]
     },
     "execution_count": 6,
     "metadata": {},
     "output_type": "execute_result"
    }
   ],
   "source": [
    "Name"
   ]
  },
  {
   "cell_type": "code",
   "execution_count": 7,
   "id": "6a74538c",
   "metadata": {},
   "outputs": [],
   "source": [
    "Name.append('aduke')"
   ]
  },
  {
   "cell_type": "code",
   "execution_count": 8,
   "id": "abc12b5b",
   "metadata": {},
   "outputs": [
    {
     "name": "stdout",
     "output_type": "stream",
     "text": [
      "['rodiyah', 'aridunu', 'adeola', 'aduke']\n"
     ]
    }
   ],
   "source": [
    "print(Name)"
   ]
  },
  {
   "cell_type": "code",
   "execution_count": 9,
   "id": "ce07b0f1",
   "metadata": {},
   "outputs": [
    {
     "data": {
      "text/plain": [
       "'rodiyah'"
      ]
     },
     "execution_count": 9,
     "metadata": {},
     "output_type": "execute_result"
    }
   ],
   "source": [
    "Name[0]"
   ]
  },
  {
   "cell_type": "code",
   "execution_count": 10,
   "id": "86760b8c",
   "metadata": {},
   "outputs": [
    {
     "data": {
      "text/plain": [
       "'adeola'"
      ]
     },
     "execution_count": 10,
     "metadata": {},
     "output_type": "execute_result"
    }
   ],
   "source": [
    "Name[-2]"
   ]
  },
  {
   "cell_type": "code",
   "execution_count": 16,
   "id": "4dc37055",
   "metadata": {},
   "outputs": [],
   "source": [
    "del Name[-2]"
   ]
  },
  {
   "cell_type": "code",
   "execution_count": 17,
   "id": "db5d2ff4",
   "metadata": {},
   "outputs": [
    {
     "name": "stdout",
     "output_type": "stream",
     "text": [
      "['adeola', 'aduke', 'rodiyah']\n"
     ]
    }
   ],
   "source": [
    "print(Name)"
   ]
  },
  {
   "cell_type": "code",
   "execution_count": 13,
   "id": "8645de69",
   "metadata": {},
   "outputs": [],
   "source": [
    "Name.sort()"
   ]
  },
  {
   "cell_type": "code",
   "execution_count": 18,
   "id": "b46d5855",
   "metadata": {},
   "outputs": [
    {
     "name": "stdout",
     "output_type": "stream",
     "text": [
      "['adeola', 'aduke', 'rodiyah']\n"
     ]
    }
   ],
   "source": [
    "print(Name)"
   ]
  },
  {
   "cell_type": "code",
   "execution_count": 19,
   "id": "b03bdba1",
   "metadata": {},
   "outputs": [],
   "source": [
    "Name.sort(reverse = True)"
   ]
  },
  {
   "cell_type": "code",
   "execution_count": 20,
   "id": "3a472ae2",
   "metadata": {},
   "outputs": [
    {
     "name": "stdout",
     "output_type": "stream",
     "text": [
      "['rodiyah', 'aduke', 'adeola']\n"
     ]
    }
   ],
   "source": [
    "print(Name)"
   ]
  },
  {
   "cell_type": "code",
   "execution_count": 21,
   "id": "a3853f6f",
   "metadata": {},
   "outputs": [],
   "source": [
    "x = 2**3"
   ]
  },
  {
   "cell_type": "code",
   "execution_count": 22,
   "id": "3d2d2947",
   "metadata": {},
   "outputs": [
    {
     "name": "stdout",
     "output_type": "stream",
     "text": [
      "8\n"
     ]
    }
   ],
   "source": [
    "print(x)"
   ]
  },
  {
   "cell_type": "code",
   "execution_count": 28,
   "id": "62a6d8bf",
   "metadata": {},
   "outputs": [],
   "source": [
    "y = 9//3"
   ]
  },
  {
   "cell_type": "code",
   "execution_count": 29,
   "id": "7b6b72f2",
   "metadata": {},
   "outputs": [
    {
     "name": "stdout",
     "output_type": "stream",
     "text": [
      "3\n"
     ]
    }
   ],
   "source": [
    "print(y)"
   ]
  },
  {
   "cell_type": "markdown",
   "id": "39c16af9",
   "metadata": {},
   "source": []
  },
  {
   "cell_type": "code",
   "execution_count": 30,
   "id": "37a07b2b",
   "metadata": {},
   "outputs": [
    {
     "data": {
      "text/plain": [
       "['rodiyah', 'aduke', 'adeola']"
      ]
     },
     "execution_count": 30,
     "metadata": {},
     "output_type": "execute_result"
    }
   ],
   "source": [
    "Name"
   ]
  },
  {
   "cell_type": "code",
   "execution_count": 31,
   "id": "0a6a4e1a",
   "metadata": {},
   "outputs": [
    {
     "ename": "NameError",
     "evalue": "name 'july' is not defined",
     "output_type": "error",
     "traceback": [
      "\u001b[1;31m---------------------------------------------------------------------------\u001b[0m",
      "\u001b[1;31mNameError\u001b[0m                                 Traceback (most recent call last)",
      "Cell \u001b[1;32mIn[31], line 2\u001b[0m\n\u001b[0;32m      1\u001b[0m Name \u001b[38;5;241m=\u001b[39m [\u001b[38;5;124m'\u001b[39m\u001b[38;5;124mrodiyah\u001b[39m\u001b[38;5;124m'\u001b[39m, \u001b[38;5;124m'\u001b[39m\u001b[38;5;124maduke\u001b[39m\u001b[38;5;124m'\u001b[39m, \u001b[38;5;124m'\u001b[39m\u001b[38;5;124madeola\u001b[39m\u001b[38;5;124m'\u001b[39m]\n\u001b[1;32m----> 2\u001b[0m Date \u001b[38;5;241m=\u001b[39m \u001b[43mjuly\u001b[49m[:\u001b[38;5;241m13\u001b[39m]\n",
      "\u001b[1;31mNameError\u001b[0m: name 'july' is not defined"
     ]
    }
   ],
   "source": [
    "Name = ['rodiyah', 'aduke', 'adeola']\n",
    "Date = july[:13]"
   ]
  },
  {
   "cell_type": "code",
   "execution_count": null,
   "id": "9621d620",
   "metadata": {},
   "outputs": [],
   "source": []
  }
 ],
 "metadata": {
  "kernelspec": {
   "display_name": "Python 3 (ipykernel)",
   "language": "python",
   "name": "python3"
  },
  "language_info": {
   "codemirror_mode": {
    "name": "ipython",
    "version": 3
   },
   "file_extension": ".py",
   "mimetype": "text/x-python",
   "name": "python",
   "nbconvert_exporter": "python",
   "pygments_lexer": "ipython3",
   "version": "3.10.9"
  }
 },
 "nbformat": 4,
 "nbformat_minor": 5
}
