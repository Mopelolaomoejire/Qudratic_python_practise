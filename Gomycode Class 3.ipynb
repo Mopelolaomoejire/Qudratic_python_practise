{
 "cells": [
  {
   "cell_type": "code",
   "execution_count": 5,
   "id": "ca33bc9e",
   "metadata": {},
   "outputs": [
    {
     "name": "stdout",
     "output_type": "stream",
     "text": [
      "45\n"
     ]
    }
   ],
   "source": [
    "a = 1+2+3 +\\\n",
    "    4+5+6+\\\n",
    "    7+8+9\n",
    "print(a)"
   ]
  },
  {
   "cell_type": "code",
   "execution_count": 6,
   "id": "8a3c4f5c",
   "metadata": {},
   "outputs": [
    {
     "name": "stdout",
     "output_type": "stream",
     "text": [
      "45\n"
     ]
    }
   ],
   "source": [
    "a = (1+2+3+\n",
    "     4+5+6+\n",
    "     7+8+9)\n",
    "print(a)"
   ]
  },
  {
   "cell_type": "code",
   "execution_count": 8,
   "id": "077f8b6b",
   "metadata": {},
   "outputs": [
    {
     "name": "stdout",
     "output_type": "stream",
     "text": [
      "['red', 'blue', 'green']\n"
     ]
    }
   ],
   "source": [
    "Colours = ['red',\n",
    "          'blue',\n",
    "          'green']\n",
    "print(Colours)"
   ]
  },
  {
   "cell_type": "code",
   "execution_count": 9,
   "id": "b0a5f0fb",
   "metadata": {},
   "outputs": [],
   "source": [
    "a = 1; b = 2; c = 3"
   ]
  },
  {
   "cell_type": "markdown",
   "id": "7d8ab710",
   "metadata": {},
   "source": [
    "### Indentation in python and Comment"
   ]
  },
  {
   "cell_type": "code",
   "execution_count": 10,
   "id": "a48f5eda",
   "metadata": {},
   "outputs": [
    {
     "name": "stdout",
     "output_type": "stream",
     "text": [
      "1\n",
      "2\n",
      "3\n",
      "4\n",
      "5\n",
      "6\n",
      "7\n",
      "8\n",
      "9\n",
      "10\n"
     ]
    }
   ],
   "source": [
    "# The output that will ran is 1-10\n",
    "for i in range(1,11):\n",
    "    print(i)\n"
   ]
  },
  {
   "cell_type": "code",
   "execution_count": 14,
   "id": "e6995be6",
   "metadata": {},
   "outputs": [
    {
     "name": "stdout",
     "output_type": "stream",
     "text": [
      "1\n",
      "2\n",
      "3\n",
      "4\n",
      "5\n",
      "6\n",
      "7\n",
      "8\n",
      "9\n",
      "10\n"
     ]
    }
   ],
   "source": [
    "\"\"\"The indentation without space before print will bring out error\"\"\"\n",
    "for i in range (1,11):\n",
    "    print(i)"
   ]
  },
  {
   "cell_type": "code",
   "execution_count": 16,
   "id": "2d600883",
   "metadata": {},
   "outputs": [
    {
     "name": "stdout",
     "output_type": "stream",
     "text": [
      "3.141592653589793\n"
     ]
    }
   ],
   "source": [
    "# Import in python\n",
    "import math\n",
    "print(math.pi)"
   ]
  },
  {
   "cell_type": "code",
   "execution_count": 17,
   "id": "e7c73484",
   "metadata": {},
   "outputs": [
    {
     "data": {
      "text/plain": [
       "3.141592653589793"
      ]
     },
     "execution_count": 17,
     "metadata": {},
     "output_type": "execute_result"
    }
   ],
   "source": [
    "from math import pi\n",
    "pi"
   ]
  },
  {
   "cell_type": "code",
   "execution_count": 21,
   "id": "6acfbcf2",
   "metadata": {},
   "outputs": [
    {
     "name": "stdout",
     "output_type": "stream",
     "text": [
      "\"Hello from Gomycode\"\n"
     ]
    }
   ],
   "source": [
    "x = input()"
   ]
  },
  {
   "cell_type": "code",
   "execution_count": null,
   "id": "2ea5ca3f",
   "metadata": {},
   "outputs": [],
   "source": [
    "print(\"Hello from Gomycode\")"
   ]
  },
  {
   "cell_type": "code",
   "execution_count": 1,
   "id": "36f819de",
   "metadata": {},
   "outputs": [
    {
     "name": "stdout",
     "output_type": "stream",
     "text": [
      "Enter your name Aminat\n"
     ]
    }
   ],
   "source": [
    "Name = input('Enter your name')"
   ]
  },
  {
   "cell_type": "code",
   "execution_count": 4,
   "id": "35292204",
   "metadata": {},
   "outputs": [
    {
     "name": "stdout",
     "output_type": "stream",
     "text": [
      "Welcome Mopelola age 30\n"
     ]
    }
   ],
   "source": [
    "Name = input('Welcome')"
   ]
  },
  {
   "cell_type": "code",
   "execution_count": 5,
   "id": "410c373f",
   "metadata": {},
   "outputs": [],
   "source": [
    "Name = \"Mopelola\"\n",
    "Age = 32"
   ]
  },
  {
   "cell_type": "code",
   "execution_count": 4,
   "id": "7e21cb6a",
   "metadata": {},
   "outputs": [
    {
     "name": "stdout",
     "output_type": "stream",
     "text": [
      "Welcome Mopelola\n",
      "age 32\n"
     ]
    }
   ],
   "source": [
    "print('Welcome', Name)\n",
    "print('age', Age)\n"
   ]
  },
  {
   "cell_type": "code",
   "execution_count": 8,
   "id": "1cae2d41",
   "metadata": {},
   "outputs": [
    {
     "name": "stdout",
     "output_type": "stream",
     "text": [
      "Welcome Mopelola age 32\n"
     ]
    }
   ],
   "source": [
    "print('Welcome', Name  + ' ' +  'age', Age)"
   ]
  },
  {
   "cell_type": "code",
   "execution_count": 1,
   "id": "49f42e97",
   "metadata": {},
   "outputs": [
    {
     "name": "stdout",
     "output_type": "stream",
     "text": [
      "57\n"
     ]
    }
   ],
   "source": [
    "# Collect 2 numbers add them and display the result\n",
    "number_1 = 32\n",
    "number_2 = 25\n",
    "answer = number_1 + number_2\n",
    "print(answer)"
   ]
  },
  {
   "cell_type": "code",
   "execution_count": null,
   "id": "c1018d28",
   "metadata": {},
   "outputs": [],
   "source": [
    "number_1 = input('Enter the first number')\n",
    "number_2 = input('Enter the second number')\n",
    "answer = number_1 + number_2\n"
   ]
  },
  {
   "cell_type": "code",
   "execution_count": null,
   "id": "18b4d157",
   "metadata": {},
   "outputs": [],
   "source": [
    "print(answer)"
   ]
  },
  {
   "cell_type": "code",
   "execution_count": null,
   "id": "8564cf4b",
   "metadata": {},
   "outputs": [],
   "source": [
    "print(answer)"
   ]
  },
  {
   "cell_type": "code",
   "execution_count": null,
   "id": "44ec4970",
   "metadata": {},
   "outputs": [],
   "source": [
    "number_1 = input(32)\n",
    "number_2 = input(20)\n",
    "answer = number_1 + number_2\n",
    "print(answer)"
   ]
  },
  {
   "cell_type": "code",
   "execution_count": 1,
   "id": "2503207c",
   "metadata": {},
   "outputs": [
    {
     "name": "stdout",
     "output_type": "stream",
     "text": [
      "Enter the first number32\n",
      "Enter the second number24\n"
     ]
    }
   ],
   "source": [
    "number_1 = input('Enter the first number')\n",
    "number_2 = input('Enter the second number')\n",
    "answer = number_1 + number_2"
   ]
  },
  {
   "cell_type": "code",
   "execution_count": 2,
   "id": "43a285de",
   "metadata": {},
   "outputs": [
    {
     "name": "stdout",
     "output_type": "stream",
     "text": [
      "3224\n"
     ]
    }
   ],
   "source": [
    "print(answer)"
   ]
  },
  {
   "cell_type": "code",
   "execution_count": 3,
   "id": "92076ee2",
   "metadata": {},
   "outputs": [
    {
     "name": "stdout",
     "output_type": "stream",
     "text": [
      "Enter the first number 32\n",
      "Enter the second number 20\n"
     ]
    }
   ],
   "source": [
    "number_1 =int(input('Enter the first number'))\n",
    "number_2 =int(input('Enter the second number'))\n",
    "answer = number_1 + number_2"
   ]
  },
  {
   "cell_type": "code",
   "execution_count": 4,
   "id": "dbfeee88",
   "metadata": {},
   "outputs": [
    {
     "name": "stdout",
     "output_type": "stream",
     "text": [
      "52\n"
     ]
    }
   ],
   "source": [
    "print(answer)"
   ]
  },
  {
   "cell_type": "code",
   "execution_count": 1,
   "id": "17debda7",
   "metadata": {},
   "outputs": [
    {
     "name": "stdout",
     "output_type": "stream",
     "text": [
      "Enter your nameMopelola\n",
      "Enter your age30\n"
     ]
    }
   ],
   "source": [
    "Name = input('Enter your name')\n",
    "Age = input('Enter your age')\n",
    "\n"
   ]
  },
  {
   "cell_type": "code",
   "execution_count": 2,
   "id": "918d70b3",
   "metadata": {},
   "outputs": [
    {
     "name": "stdout",
     "output_type": "stream",
     "text": [
      "Welcome Mopelola age 30\n"
     ]
    }
   ],
   "source": [
    "print('Welcome', Name, 'age', Age)"
   ]
  },
  {
   "cell_type": "code",
   "execution_count": 35,
   "id": "1b1020d0",
   "metadata": {},
   "outputs": [
    {
     "name": "stdout",
     "output_type": "stream",
     "text": [
      "a 2\n",
      "b 4\n",
      "c 1\n"
     ]
    }
   ],
   "source": [
    "a = int(input('a'))\n",
    "b = int(input('b'))\n",
    "c = int(input('c'))"
   ]
  },
  {
   "cell_type": "code",
   "execution_count": 67,
   "id": "082199f8",
   "metadata": {},
   "outputs": [],
   "source": [
    "almighty_formular = (-b+(b**2-4*a*c)**0.5)/2*a"
   ]
  },
  {
   "cell_type": "code",
   "execution_count": 68,
   "id": "6b86b51a",
   "metadata": {},
   "outputs": [
    {
     "name": "stdout",
     "output_type": "stream",
     "text": [
      "-1.1715728752538097\n"
     ]
    }
   ],
   "source": [
    "print(almighty_formular)"
   ]
  },
  {
   "cell_type": "code",
   "execution_count": 58,
   "id": "3319b803",
   "metadata": {},
   "outputs": [
    {
     "data": {
      "text/plain": [
       "4.0"
      ]
     },
     "execution_count": 58,
     "metadata": {},
     "output_type": "execute_result"
    }
   ],
   "source": [
    "16**0.5"
   ]
  },
  {
   "cell_type": "code",
   "execution_count": 21,
   "id": "9e8334cc",
   "metadata": {},
   "outputs": [
    {
     "name": "stdout",
     "output_type": "stream",
     "text": [
      "2.0\n"
     ]
    }
   ],
   "source": [
    "y = math.sqrt(4)\n",
    "print(y)"
   ]
  },
  {
   "cell_type": "code",
   "execution_count": 13,
   "id": "3f67474a",
   "metadata": {},
   "outputs": [],
   "source": []
  },
  {
   "cell_type": "code",
   "execution_count": 34,
   "id": "aef7b7b0",
   "metadata": {},
   "outputs": [
    {
     "name": "stdout",
     "output_type": "stream",
     "text": [
      "8\n"
     ]
    }
   ],
   "source": [
    "x = 4**2 - 4*2*1\n",
    "print(x)"
   ]
  },
  {
   "cell_type": "code",
   "execution_count": 2,
   "id": "1b55b6e3",
   "metadata": {},
   "outputs": [
    {
     "name": "stdout",
     "output_type": "stream",
     "text": [
      "a 2\n",
      "b 4\n",
      "c 1\n"
     ]
    }
   ],
   "source": [
    "# Quadratic formula \n",
    "a = int(input('a'))\n",
    "b = int(input('b'))\n",
    "c = int(input('c'))"
   ]
  },
  {
   "cell_type": "code",
   "execution_count": 3,
   "id": "5309db39",
   "metadata": {},
   "outputs": [
    {
     "name": "stdout",
     "output_type": "stream",
     "text": [
      "2.8284271247461903\n"
     ]
    }
   ],
   "source": [
    "d = (4**2 -4*2*1)**0.5\n",
    "print(d)"
   ]
  },
  {
   "cell_type": "code",
   "execution_count": 4,
   "id": "4df2954c",
   "metadata": {},
   "outputs": [
    {
     "name": "stdout",
     "output_type": "stream",
     "text": [
      "4\n"
     ]
    }
   ],
   "source": [
    "e = 2*a\n",
    "print(e)"
   ]
  },
  {
   "cell_type": "code",
   "execution_count": 5,
   "id": "60c78301",
   "metadata": {},
   "outputs": [
    {
     "name": "stdout",
     "output_type": "stream",
     "text": [
      "-1.1715728752538097\n",
      "-0.2928932188134524\n"
     ]
    }
   ],
   "source": [
    "formular = (-b - d)/e\n",
    "x = -b + d\n",
    "print(x)\n",
    "h = x/e\n",
    "print(h)"
   ]
  },
  {
   "cell_type": "code",
   "execution_count": 51,
   "id": "068d510d",
   "metadata": {},
   "outputs": [
    {
     "name": "stdout",
     "output_type": "stream",
     "text": [
      "-0.2928932188134524\n"
     ]
    }
   ],
   "source": [
    "print(formular)"
   ]
  },
  {
   "cell_type": "code",
   "execution_count": 9,
   "id": "055f266f",
   "metadata": {},
   "outputs": [],
   "source": [
    "import math"
   ]
  },
  {
   "cell_type": "code",
   "execution_count": 12,
   "id": "0a2d1395",
   "metadata": {},
   "outputs": [
    {
     "name": "stdout",
     "output_type": "stream",
     "text": [
      "a2\n",
      "b4\n",
      "c1\n"
     ]
    }
   ],
   "source": [
    "# Quadratic formula \n",
    "a = int(input('a'))\n",
    "b = int(input('b'))\n",
    "c = int(input('c'))"
   ]
  },
  {
   "cell_type": "code",
   "execution_count": 13,
   "id": "b6d2bc12",
   "metadata": {},
   "outputs": [
    {
     "name": "stdout",
     "output_type": "stream",
     "text": [
      "This equation has two solutions:, x1, \"and\" x2\n",
      "x1 = -0.2928932188134524\n",
      "x2 = -1.7071067811865475\n"
     ]
    }
   ],
   "source": [
    "# Quadratic Formular x = (-b + math.sqrt(b**2 - 4*a*c))/2*a\n",
    "x1 = (-b+math.sqrt(b**2 - 4*a*c))/(2*a)\n",
    "x2 = (-b-math.sqrt(b**2 - 4*a*c))/(2*a)\n",
    "print('This equation has two solutions:, x1, \"and\" x2')\n",
    "print('x1 =', x1)\n",
    "print('x2 =', x2)"
   ]
  },
  {
   "cell_type": "code",
   "execution_count": 3,
   "id": "5d99b746",
   "metadata": {},
   "outputs": [],
   "source": [
    "import math"
   ]
  },
  {
   "cell_type": "code",
   "execution_count": 4,
   "id": "a239a3f3",
   "metadata": {},
   "outputs": [
    {
     "name": "stdout",
     "output_type": "stream",
     "text": [
      "a2\n",
      "b11\n",
      "c14\n"
     ]
    }
   ],
   "source": [
    "# Quadratic formula \n",
    "a = int(input('a'))\n",
    "b = int(input('b'))\n",
    "c = int(input('c'))"
   ]
  },
  {
   "cell_type": "code",
   "execution_count": 5,
   "id": "ff749cf6",
   "metadata": {},
   "outputs": [
    {
     "name": "stdout",
     "output_type": "stream",
     "text": [
      "This equation has two solutions:, x1, \"and\" x2\n",
      "x1 = -2.0\n",
      "x2 = -3.5\n"
     ]
    }
   ],
   "source": [
    "# Quadratic Formular x = (-b + math.sqrt(b**2 - 4*a*c))/2*a\n",
    "# Question 2x**2 - 11x + 14 =0\n",
    "x1 = (-b+math.sqrt(b**2 - 4*a*c))/(2*a)\n",
    "x2 = (-b-math.sqrt(b**2 - 4*a*c))/(2*a)\n",
    "print('This equation has two solutions:, x1, \"and\" x2')\n",
    "print('x1 =', x1)\n",
    "print('x2 =', x2)"
   ]
  },
  {
   "cell_type": "code",
   "execution_count": 6,
   "id": "db331ec6",
   "metadata": {},
   "outputs": [
    {
     "name": "stdout",
     "output_type": "stream",
     "text": [
      "a1\n",
      "b7\n",
      "c1\n"
     ]
    }
   ],
   "source": [
    "# Quadratic formula \n",
    "a = int(input('a'))\n",
    "b = int(input('b'))\n",
    "c = int(input('c'))"
   ]
  },
  {
   "cell_type": "code",
   "execution_count": 7,
   "id": "8d6aaa5a",
   "metadata": {},
   "outputs": [
    {
     "name": "stdout",
     "output_type": "stream",
     "text": [
      "This equation has two solutions:, x1, \"and\" x2\n",
      "x1 = -0.1458980337503153\n",
      "x2 = -6.854101966249685\n"
     ]
    }
   ],
   "source": [
    "# Quadratic Formular x = (-b + math.sqrt(b**2 - 4*a*c))/2*a\n",
    "# Question x**2 + 7x - 1 = 0\n",
    "x1 = (-b+math.sqrt(b**2 - 4*a*c))/(2*a)\n",
    "x2 = (-b-math.sqrt(b**2 - 4*a*c))/(2*a)\n",
    "print('This equation has two solutions:, x1, \"and\" x2')\n",
    "print('x1 =', x1)\n",
    "print('x2 =', x2)"
   ]
  },
  {
   "cell_type": "code",
   "execution_count": null,
   "id": "6656c0b4",
   "metadata": {},
   "outputs": [],
   "source": []
  }
 ],
 "metadata": {
  "kernelspec": {
   "display_name": "Python 3 (ipykernel)",
   "language": "python",
   "name": "python3"
  },
  "language_info": {
   "codemirror_mode": {
    "name": "ipython",
    "version": 3
   },
   "file_extension": ".py",
   "mimetype": "text/x-python",
   "name": "python",
   "nbconvert_exporter": "python",
   "pygments_lexer": "ipython3",
   "version": "3.10.9"
  }
 },
 "nbformat": 4,
 "nbformat_minor": 5
}
